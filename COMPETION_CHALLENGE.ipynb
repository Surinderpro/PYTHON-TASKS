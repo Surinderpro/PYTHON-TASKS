{
 "cells": [
  {
   "cell_type": "markdown",
   "id": "25a0874a-ffd8-4973-99dc-6c1ce85fc1da",
   "metadata": {},
   "source": [
    "COMPETION TASKS"
   ]
  },
  {
   "cell_type": "code",
   "execution_count": null,
   "id": "719eda1a-f459-4ee5-9e63-351eb3c74b97",
   "metadata": {},
   "outputs": [],
   "source": [
    "pip install boto3"
   ]
  },
  {
   "cell_type": "code",
   "execution_count": null,
   "id": "9e150125-3835-4812-8aaa-04ee910bfd5a",
   "metadata": {},
   "outputs": [],
   "source": [
    "import boto3\n",
    "myos=boto3.resource(\n",
    "                    \"ec2\",\n",
    "                    region_name=\"\",\n",
    "                    aws_access_key_id=\"\",\n",
    "                    aws_secret_access_key=\"\"\n",
    ")\n",
    "def osLaunch():\n",
    "    myos.create_instances(\n",
    "        InstanceType=\"t2.micro\",\n",
    "        ImageId=\"\",\n",
    "        MaxCount=1,\n",
    "        MinCount=1\n",
    "    )"
   ]
  },
  {
   "cell_type": "code",
   "execution_count": null,
   "id": "275a82e2-40d0-46e3-ad5b-8e442a86e6cd",
   "metadata": {},
   "outputs": [],
   "source": [
    "osLaunch()"
   ]
  }
 ],
 "metadata": {
  "kernelspec": {
   "display_name": "Python 3 (ipykernel)",
   "language": "python",
   "name": "python3"
  },
  "language_info": {
   "codemirror_mode": {
    "name": "ipython",
    "version": 3
   },
   "file_extension": ".py",
   "mimetype": "text/x-python",
   "name": "python",
   "nbconvert_exporter": "python",
   "pygments_lexer": "ipython3",
   "version": "3.11.3"
  }
 },
 "nbformat": 4,
 "nbformat_minor": 5
}
