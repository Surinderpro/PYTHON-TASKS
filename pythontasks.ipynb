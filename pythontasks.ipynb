{
 "cells": [
  {
   "cell_type": "code",
   "execution_count": null,
   "id": "a75dea9d-8cef-4cbe-9e74-9f7577d2fb2d",
   "metadata": {},
   "outputs": [],
   "source": [
    "SEND WHATSAPP MESSAGE THROUGH PYTHON"
   ]
  },
  {
   "cell_type": "code",
   "execution_count": null,
   "id": "7d084b23-66c4-4058-be96-d4c8504af3e2",
   "metadata": {},
   "outputs": [],
   "source": [
    "pip install pywhatkit\n"
   ]
  },
  {
   "cell_type": "code",
   "execution_count": null,
   "id": "d3f6cd34-6bbe-4c69-b1a5-ff0bc60ba88a",
   "metadata": {},
   "outputs": [],
   "source": [
    "import pywhatkit as kit\n",
    "\n",
    "# Parameters\n",
    "phone_number = \"+918830209806\"  # Replace with the recipient's phone number including country code\n",
    "message = \"Hello from ChatGPT! This is a test message.\"\n",
    "hour = 19  # Hour in 24-hour format\n",
    "minute = 33  # Minute\n",
    "\n",
    "# Send the message\n",
    "kit.sendwhatmsg(phone_number, message, hour, minute)\n"
   ]
  },
  {
   "cell_type": "code",
   "execution_count": 1,
   "id": "643ce910-a2d6-4563-ac00-2303cfc8cb24",
   "metadata": {},
   "outputs": [
    {
     "name": "stdin",
     "output_type": "stream",
     "text": [
      "Enter the message you want to send:  hey devang\n"
     ]
    }
   ],
   "source": [
    "import pywhatkit as kit\n",
    "\n",
    "# Parameters\n",
    "phone_number = \"+918830209806\"  # Replace with the recipient's phone number including country code\n",
    "message = input(\"Enter the message you want to send: \")\n",
    "\n",
    "# Send the message instantly\n",
    "kit.sendwhatmsg_instantly(phone_number, message)"
   ]
  },
  {
   "cell_type": "code",
   "execution_count": null,
   "id": "8325fcf3-a4f0-4ed4-8054-562bd16b2f36",
   "metadata": {},
   "outputs": [],
   "source": [
    "SEND EMAIL THROUGH PYTHON"
   ]
  },
  {
   "cell_type": "code",
   "execution_count": 1,
   "id": "fe5fa3ae-e1e9-4a68-b1ff-e625545974cc",
   "metadata": {},
   "outputs": [
    {
     "name": "stdout",
     "output_type": "stream",
     "text": [
      "Email sent successfully!\n"
     ]
    }
   ],
   "source": [
    "import smtplib\n",
    "from email.mime.multipart import MIMEMultipart\n",
    "from email.mime.text import MIMEText\n",
    "\n",
    "def send_email(sender_email, sender_password, recipient_email, subject, body):\n",
    "    try:\n",
    "        # Create the email headers and content\n",
    "        msg = MIMEMultipart()\n",
    "        msg['From'] = sender_email\n",
    "        msg['To'] = recipient_email\n",
    "        msg['Subject'] = subject\n",
    "\n",
    "        # Attach the email body\n",
    "        msg.attach(MIMEText(body, 'plain'))\n",
    "\n",
    "        # Set up the SMTP server and send the email\n",
    "        with smtplib.SMTP('smtp.gmail.com', 587) as server:\n",
    "            server.starttls()  # Upgrade the connection to a secure encrypted SSL/TLS connection\n",
    "            server.login(sender_email, sender_password)  # Login to the email account\n",
    "            text = msg.as_string()  # Convert the message to a string\n",
    "            server.sendmail(sender_email, recipient_email, text)  # Send the email\n",
    "\n",
    "        print(\"Email sent successfully!\")\n",
    "\n",
    "    except Exception as e:\n",
    "        print(f\"Failed to send email. Error: {e}\")\n",
    "\n",
    "# Example usage\n",
    "sender_email = \"sender@gmail.com\"\n",
    "sender_password = \"APNA APP PASSWORD DALO\"  # Use your app-specific password if 2FA is enabled ->https://myaccount.google.com/apppasswords\n",
    "recipient_email = \"reciever@gmail.com\"\n",
    "subject = \"Test Email from Python\"\n",
    "body = \"This is a test email sent from Python using smtplib.\"\n",
    "\n",
    "send_email(sender_email, sender_password, recipient_email, subject, body)\n"
   ]
  },
  {
   "cell_type": "markdown",
   "id": "53b58562-1ff7-49bb-ab53-6ee549fa6f79",
   "metadata": {},
   "source": [
    "SEND SMS THROUGH PYTHON"
   ]
  },
  {
   "cell_type": "code",
   "execution_count": 1,
   "id": "0d2d2e28-54df-4138-86c2-3d48f8d1ab58",
   "metadata": {},
   "outputs": [
    {
     "name": "stdout",
     "output_type": "stream",
     "text": [
      "Collecting twilio\n",
      "  Downloading twilio-9.0.5-py2.py3-none-any.whl (1.7 MB)\n",
      "                                              0.0/1.7 MB ? eta -:--:--\n",
      "                                              0.0/1.7 MB ? eta -:--:--\n",
      "     --                                       0.1/1.7 MB 1.7 MB/s eta 0:00:01\n",
      "     -----                                    0.3/1.7 MB 2.2 MB/s eta 0:00:01\n",
      "     --------                                 0.4/1.7 MB 2.5 MB/s eta 0:00:01\n",
      "     -------------                            0.6/1.7 MB 2.8 MB/s eta 0:00:01\n",
      "     --------------------                     0.9/1.7 MB 3.2 MB/s eta 0:00:01\n",
      "     ------------------------                 1.0/1.7 MB 3.3 MB/s eta 0:00:01\n",
      "     -------------------------------          1.4/1.7 MB 3.9 MB/s eta 0:00:01\n",
      "     ---------------------------------------  1.7/1.7 MB 4.3 MB/s eta 0:00:01\n",
      "     ---------------------------------------- 1.7/1.7 MB 4.2 MB/s eta 0:00:00\n",
      "Requirement already satisfied: requests>=2.0.0 in c:\\users\\91905\\appdata\\local\\programs\\python\\python311\\lib\\site-packages (from twilio) (2.31.0)\n",
      "Collecting PyJWT<3.0.0,>=2.0.0 (from twilio)\n",
      "  Downloading PyJWT-2.8.0-py3-none-any.whl (22 kB)\n",
      "Requirement already satisfied: aiohttp>=3.8.4 in c:\\users\\91905\\appdata\\local\\programs\\python\\python311\\lib\\site-packages (from twilio) (3.8.5)\n",
      "Collecting aiohttp-retry>=2.8.3 (from twilio)\n",
      "  Downloading aiohttp_retry-2.8.3-py3-none-any.whl (9.8 kB)\n",
      "Requirement already satisfied: attrs>=17.3.0 in c:\\users\\91905\\appdata\\local\\programs\\python\\python311\\lib\\site-packages (from aiohttp>=3.8.4->twilio) (23.1.0)\n",
      "Requirement already satisfied: charset-normalizer<4.0,>=2.0 in c:\\users\\91905\\appdata\\local\\programs\\python\\python311\\lib\\site-packages (from aiohttp>=3.8.4->twilio) (3.2.0)\n",
      "Requirement already satisfied: multidict<7.0,>=4.5 in c:\\users\\91905\\appdata\\local\\programs\\python\\python311\\lib\\site-packages (from aiohttp>=3.8.4->twilio) (6.0.4)\n",
      "Requirement already satisfied: async-timeout<5.0,>=4.0.0a3 in c:\\users\\91905\\appdata\\local\\programs\\python\\python311\\lib\\site-packages (from aiohttp>=3.8.4->twilio) (4.0.2)\n",
      "Requirement already satisfied: yarl<2.0,>=1.0 in c:\\users\\91905\\appdata\\local\\programs\\python\\python311\\lib\\site-packages (from aiohttp>=3.8.4->twilio) (1.9.2)\n",
      "Requirement already satisfied: frozenlist>=1.1.1 in c:\\users\\91905\\appdata\\local\\programs\\python\\python311\\lib\\site-packages (from aiohttp>=3.8.4->twilio) (1.4.0)\n",
      "Requirement already satisfied: aiosignal>=1.1.2 in c:\\users\\91905\\appdata\\local\\programs\\python\\python311\\lib\\site-packages (from aiohttp>=3.8.4->twilio) (1.3.1)\n",
      "Requirement already satisfied: idna<4,>=2.5 in c:\\users\\91905\\appdata\\local\\programs\\python\\python311\\lib\\site-packages (from requests>=2.0.0->twilio) (3.4)\n",
      "Requirement already satisfied: urllib3<3,>=1.21.1 in c:\\users\\91905\\appdata\\local\\programs\\python\\python311\\lib\\site-packages (from requests>=2.0.0->twilio) (1.26.16)\n",
      "Requirement already satisfied: certifi>=2017.4.17 in c:\\users\\91905\\appdata\\local\\programs\\python\\python311\\lib\\site-packages (from requests>=2.0.0->twilio) (2019.3.9)\n",
      "Installing collected packages: PyJWT, aiohttp-retry, twilio\n",
      "Successfully installed PyJWT-2.8.0 aiohttp-retry-2.8.3 twilio-9.0.5\n",
      "Note: you may need to restart the kernel to use updated packages.\n"
     ]
    },
    {
     "name": "stderr",
     "output_type": "stream",
     "text": [
      "\n",
      "[notice] A new release of pip is available: 23.1.2 -> 24.0\n",
      "[notice] To update, run: C:\\Users\\91905\\AppData\\Local\\Programs\\Python\\Python311\\python.exe -m pip install --upgrade pip\n"
     ]
    }
   ],
   "source": [
    "pip install twilio\n"
   ]
  },
  {
   "cell_type": "code",
   "execution_count": 6,
   "id": "24c1df7d-215e-4ae7-9b62-e76a31bcd149",
   "metadata": {},
   "outputs": [
    {
     "name": "stdin",
     "output_type": "stream",
     "text": [
      "Enter the recipient phone number (with country code):  +919055008664\n",
      "Enter the message you want to send:  heyyyyy\n"
     ]
    },
    {
     "name": "stdout",
     "output_type": "stream",
     "text": [
      "Message sent successfully! Message SID: SM6d9c1ad2e5ddd1dcc395355f27954697\n"
     ]
    }
   ],
   "source": [
    "from twilio.rest import Client\n",
    "\n",
    "def send_sms(account_sid, auth_token, twilio_phone_number, to_phone_number, message_body):\n",
    "    try:\n",
    "        client = Client(account_sid, auth_token)\n",
    "\n",
    "        message = client.messages.create(\n",
    "            body=message_body,\n",
    "            from_=twilio_phone_number,\n",
    "            to=to_phone_number\n",
    "        )\n",
    "\n",
    "        print(f\"Message sent successfully! Message SID: {message.sid}\")\n",
    "\n",
    "    except Exception as e:\n",
    "        print(f\"Failed to send message. Error: {e}\")\n",
    "\n",
    "# Example usage\n",
    "if __name__ == \"__main__\":\n",
    "    account_sid = ''  # Your Account SID from twilio.com/console\n",
    "    auth_token = ''    # Your Auth Token from twilio.com/console\n",
    "    twilio_phone_number = '+123456789'  # Your Twilio phone number\n",
    "    to_phone_number = input(\"Enter the recipient phone number (with country code): \")\n",
    "    message_body = input(\"Enter the message you want to send: \")\n",
    "\n",
    "    send_sms(account_sid, auth_token, twilio_phone_number, to_phone_number, message_body)\n"
   ]
  },
  {
   "cell_type": "markdown",
   "id": "a07f9dac-6db9-4af8-b199-c5aeafe4d550",
   "metadata": {},
   "source": [
    "SEND VOICE NOTE ON EMAIL THROUGH PYTHON"
   ]
  },
  {
   "cell_type": "code",
   "execution_count": 1,
   "id": "7b162749-43fe-4138-abc9-52b0f3c7970a",
   "metadata": {},
   "outputs": [
    {
     "name": "stdout",
     "output_type": "stream",
     "text": [
      "Note: you may need to restart the kernel to use updated packages.Requirement already satisfied: gtts in c:\\users\\91905\\appdata\\local\\programs\\python\\python311\\lib\\site-packages (2.5.1)\n",
      "Requirement already satisfied: pydub in c:\\users\\91905\\appdata\\local\\programs\\python\\python311\\lib\\site-packages (0.25.1)\n",
      "\n"
     ]
    },
    {
     "name": "stderr",
     "output_type": "stream",
     "text": [
      "ERROR: Could not find a version that satisfies the requirement smtplib (from versions: none)\n",
      "ERROR: No matching distribution found for smtplib\n",
      "\n",
      "[notice] A new release of pip is available: 23.1.2 -> 24.0\n",
      "[notice] To update, run: C:\\Users\\91905\\AppData\\Local\\Programs\\Python\\Python311\\python.exe -m pip install --upgrade pip\n"
     ]
    }
   ],
   "source": [
    "pip install gtts pydub smtplib email\n"
   ]
  },
  {
   "cell_type": "code",
   "execution_count": 2,
   "id": "74c37eda-4aa8-45df-86be-5d47948b1609",
   "metadata": {},
   "outputs": [
    {
     "name": "stderr",
     "output_type": "stream",
     "text": [
      "C:\\Users\\91905\\AppData\\Local\\Programs\\Python\\Python311\\Lib\\site-packages\\pydub\\utils.py:170: RuntimeWarning: Couldn't find ffmpeg or avconv - defaulting to ffmpeg, but may not work\n",
      "  warn(\"Couldn't find ffmpeg or avconv - defaulting to ffmpeg, but may not work\", RuntimeWarning)\n"
     ]
    },
    {
     "name": "stdin",
     "output_type": "stream",
     "text": [
      "Enter the text you want to convert to audio:  hey buddy\n",
      "Enter the recipient's email address:  devangkubade@gmail.com\n"
     ]
    },
    {
     "name": "stdout",
     "output_type": "stream",
     "text": [
      "Email sent successfully!\n"
     ]
    }
   ],
   "source": [
    "import os\n",
    "from gtts import gTTS\n",
    "from pydub import AudioSegment\n",
    "from pydub.playback import play\n",
    "import smtplib\n",
    "from email.mime.multipart import MIMEMultipart\n",
    "from email.mime.base import MIMEBase\n",
    "from email.mime.text import MIMEText\n",
    "from email.mime.audio import MIMEAudio\n",
    "from email import encoders\n",
    "\n",
    "def text_to_audio(text, audio_file):\n",
    "    tts = gTTS(text=text, lang='en')\n",
    "    tts.save(audio_file)\n",
    "\n",
    "def send_email_with_audio(subject, body, to_email, from_email, smtp_server, smtp_port, smtp_username, smtp_password, audio_file):\n",
    "    # Create the email\n",
    "    msg = MIMEMultipart()\n",
    "    msg['From'] = from_email\n",
    "    msg['To'] = to_email\n",
    "    msg['Subject'] = subject\n",
    "    \n",
    "    # Attach the body text\n",
    "    msg.attach(MIMEText(body, 'plain'))\n",
    "    \n",
    "    # Attach the audio file\n",
    "    with open(audio_file, 'rb') as f:\n",
    "        part = MIMEAudio(f.read(), _subtype='mp3')\n",
    "        part.add_header('Content-Disposition', 'attachment', filename=os.path.basename(audio_file))\n",
    "        msg.attach(part)\n",
    "    \n",
    "    # Send the email\n",
    "    server = smtplib.SMTP(smtp_server, smtp_port)\n",
    "    server.starttls()\n",
    "    server.login(smtp_username, smtp_password)\n",
    "    server.sendmail(from_email, to_email, msg.as_string())\n",
    "    server.quit()\n",
    "\n",
    "if __name__ == \"__main__\":\n",
    "    # User inputs\n",
    "    user_text = input(\"Enter the text you want to convert to audio: \")\n",
    "    to_email = input(\"Enter the recipient's email address: \")\n",
    "    subject = \"Voice Note\"\n",
    "    body = \"Please find the attached voice note.\"\n",
    "    from_email = 'surinderjungral275@gmail.com'\n",
    "    smtp_server = 'smtp.gmail.com'\n",
    "    smtp_port = 587\n",
    "    smtp_username = 'surinderjungral275@gmail.com'\n",
    "    smtp_password = \"APNA APP PASSWORD DALO\"  # Use your app-specific password if 2FA is enabled ->https://myaccount.google.com/apppasswords\n",
    "    \n",
    "    # File path for the audio file\n",
    "    audio_file = \"voice_message.mp3\"\n",
    "    \n",
    "    # Convert text to audio\n",
    "    text_to_audio(user_text, audio_file)\n",
    "    \n",
    "    # Send email with the audio file\n",
    "    send_email_with_audio(subject, body, to_email, from_email, smtp_server, smtp_port, smtp_username, smtp_password, audio_file)\n",
    "    \n",
    "    # Cleanup\n",
    "    if os.path.exists(audio_file):\n",
    "        os.remove(audio_file)\n",
    "    \n",
    "    print(\"Email sent successfully!\")\n"
   ]
  },
  {
   "cell_type": "markdown",
   "id": "2720be22-e665-45e3-9805-3e469dcdfc75",
   "metadata": {},
   "source": [
    "CONTROL VOLUME THROUGH THROUGH PYTHON"
   ]
  },
  {
   "cell_type": "code",
   "execution_count": 2,
   "id": "3ada2bf3-2d2a-4348-b2bc-d7d3fbbc8e65",
   "metadata": {},
   "outputs": [
    {
     "name": "stdout",
     "output_type": "stream",
     "text": [
      "Collecting pycaw\n",
      "  Downloading pycaw-20240210-py3-none-any.whl (24 kB)\n",
      "Collecting comtypes\n",
      "  Downloading comtypes-1.4.2-py3-none-any.whl (201 kB)\n",
      "                                              0.0/201.2 kB ? eta -:--:--\n",
      "     -------                               41.0/201.2 kB 991.0 kB/s eta 0:00:01\n",
      "     -----------------                       92.2/201.2 kB 1.1 MB/s eta 0:00:01\n",
      "     --------------------                 112.6/201.2 kB 939.4 kB/s eta 0:00:01\n",
      "     -----------------------------        163.8/201.2 kB 893.0 kB/s eta 0:00:01\n",
      "     ------------------------------------ 201.2/201.2 kB 872.0 kB/s eta 0:00:00\n",
      "Requirement already satisfied: psutil in c:\\users\\91905\\appdata\\local\\programs\\python\\python311\\lib\\site-packages (from pycaw) (5.9.5)\n",
      "Installing collected packages: comtypes, pycaw\n",
      "Successfully installed comtypes-1.4.2 pycaw-20240210\n",
      "Note: you may need to restart the kernel to use updated packages.\n"
     ]
    },
    {
     "name": "stderr",
     "output_type": "stream",
     "text": [
      "\n",
      "[notice] A new release of pip is available: 23.1.2 -> 24.0\n",
      "[notice] To update, run: C:\\Users\\91905\\AppData\\Local\\Programs\\Python\\Python311\\python.exe -m pip install --upgrade pip\n"
     ]
    }
   ],
   "source": [
    "pip install pycaw comtypes\n"
   ]
  },
  {
   "cell_type": "code",
   "execution_count": 9,
   "id": "4d478edf-d470-41e4-9075-4d4c69bcdba6",
   "metadata": {},
   "outputs": [
    {
     "name": "stdout",
     "output_type": "stream",
     "text": [
      "Current volume: 100.0%\n"
     ]
    },
    {
     "name": "stdin",
     "output_type": "stream",
     "text": [
      "Enter the volume level (0-100):  50\n"
     ]
    },
    {
     "name": "stdout",
     "output_type": "stream",
     "text": [
      "Volume set to 50.0%\n"
     ]
    }
   ],
   "source": [
    "from ctypes import cast, POINTER\n",
    "from comtypes import CLSCTX_ALL\n",
    "from pycaw.pycaw import AudioUtilities, IAudioEndpointVolume\n",
    "\n",
    "def get_volume():\n",
    "    devices = AudioUtilities.GetSpeakers()\n",
    "    interface = devices.Activate(\n",
    "        IAudioEndpointVolume._iid_, CLSCTX_ALL, None)\n",
    "    volume = cast(interface, POINTER(IAudioEndpointVolume))\n",
    "    current_volume = volume.GetMasterVolumeLevelScalar() * 100\n",
    "    return current_volume\n",
    "\n",
    "def set_volume(volume_level):\n",
    "    devices = AudioUtilities.GetSpeakers()\n",
    "    interface = devices.Activate(\n",
    "        IAudioEndpointVolume._iid_, CLSCTX_ALL, None)\n",
    "    volume = cast(interface, POINTER(IAudioEndpointVolume))\n",
    "    volume.SetMasterVolumeLevelScalar(volume_level / 100.0, None)\n",
    "\n",
    "def main():\n",
    "    # Get the current volume\n",
    "    current_volume = get_volume()\n",
    "    print(f\"Current volume: {current_volume}%\")\n",
    "\n",
    "    # Prompt the user for the desired volume level\n",
    "    try:\n",
    "        user_volume = float(input(\"Enter the volume level (0-100): \"))\n",
    "        if 0 <= user_volume <= 100:\n",
    "            set_volume(user_volume)\n",
    "            print(f\"Volume set to {user_volume}%\")\n",
    "        else:\n",
    "            print(\"Please enter a value between 0 and 100.\")\n",
    "    except ValueError:\n",
    "        print(\"Invalid input. Please enter a numerical value between 0 and 100.\")\n",
    "\n",
    "if __name__ == \"__main__\":\n",
    "    main()\n"
   ]
  },
  {
   "cell_type": "code",
   "execution_count": null,
   "id": "da66d097-ce6f-43c3-ac40-d6ac25cb2e47",
   "metadata": {},
   "outputs": [],
   "source": []
  }
 ],
 "metadata": {
  "kernelspec": {
   "display_name": "Python 3 (ipykernel)",
   "language": "python",
   "name": "python3"
  },
  "language_info": {
   "codemirror_mode": {
    "name": "ipython",
    "version": 3
   },
   "file_extension": ".py",
   "mimetype": "text/x-python",
   "name": "python",
   "nbconvert_exporter": "python",
   "pygments_lexer": "ipython3",
   "version": "3.11.3"
  }
 },
 "nbformat": 4,
 "nbformat_minor": 5
}
